{
  "nbformat": 4,
  "nbformat_minor": 0,
  "metadata": {
    "colab": {
      "provenance": [],
      "collapsed_sections": [],
      "mount_file_id": "17cNhVZI1itYGiSyXsgs8nxpYIdtg9iaG",
      "authorship_tag": "ABX9TyOdcdagU3/9eZrZm7iAqATA",
      "include_colab_link": true
    },
    "kernelspec": {
      "name": "python3",
      "display_name": "Python 3"
    },
    "language_info": {
      "name": "python"
    }
  },
  "cells": [
    {
      "cell_type": "markdown",
      "metadata": {
        "id": "view-in-github",
        "colab_type": "text"
      },
      "source": [
        "<a href=\"https://colab.research.google.com/github/dustyxoder/Linear-Regression/blob/main/AnimationGD.ipynb\" target=\"_parent\"><img src=\"https://colab.research.google.com/assets/colab-badge.svg\" alt=\"Open In Colab\"/></a>"
      ]
    },
    {
      "cell_type": "code",
      "source": [],
      "metadata": {
        "id": "8EhBRZuQGpBk"
      },
      "execution_count": null,
      "outputs": []
    },
    {
      "cell_type": "code",
      "source": [
        "from google.colab import drive\n",
        "drive.mount('/content/drive')"
      ],
      "metadata": {
        "colab": {
          "base_uri": "https://localhost:8080/"
        },
        "id": "IucBfzj367IQ",
        "outputId": "ac6a1d67-3614-4dc5-a908-ab3db325b797"
      },
      "execution_count": null,
      "outputs": [
        {
          "output_type": "stream",
          "name": "stdout",
          "text": [
            "Drive already mounted at /content/drive; to attempt to forcibly remount, call drive.mount(\"/content/drive\", force_remount=True).\n"
          ]
        }
      ]
    },
    {
      "cell_type": "code",
      "execution_count": null,
      "metadata": {
        "id": "XgWpFd1agj56"
      },
      "outputs": [],
      "source": [
        "import pandas as pd\n",
        "import matplotlib.pyplot as plt\n",
        "import numpy as np\n",
        "import random\n",
        "import imageio\n",
        "import os\n",
        "\n",
        "\n",
        "def compute_cost(b, m, data):\n",
        "\n",
        "    data['Mean Squared Error(MSE)'] = (data['Y'] - (m * data['X'] + b)) ** 2\n",
        "    return data['Mean Squared Error(MSE)'].sum().mean()\n",
        "\n",
        "\n",
        "def adjust_gradient(b_current, m_current, data, learning_rate):\n",
        "    \n",
        "    data['b Gradient'] = -(2 / len(data)) * (data['Y'] - ((m_current * data['X']) + b_current))\n",
        "    data['m Gradient'] = -(2 / len(data)) * data['X'] * (data['Y'] - ((m_current * data['X']) + b_current))\n",
        "    new_b = b_current - (data['b Gradient'].sum() * learning_rate)\n",
        "    new_m = m_current - (data['m Gradient'].sum() * learning_rate)\n",
        "    return new_b, new_m\n",
        "\n",
        "\n",
        "def gradient_descent(data, b, m, learning_rate, max_iter, visual=False):\n",
        "    \n",
        "    line = np.arange(len(data))\n",
        "    folder_name = None\n",
        "    if visual:\n",
        "        folder_name = str(random.randint(10 ** 6, 10 ** 8))\n",
        "        os.mkdir(folder_name)\n",
        "        os.chdir(folder_name)\n",
        "    for i in range(max_iter):\n",
        "        b, m = adjust_gradient(b, m, data, learning_rate)\n",
        "        if visual:\n",
        "            data['Line'] = (line * m) + b\n",
        "            data.plot(kind='scatter',x='X',y='Y', figsize=(8, 8), marker='o', color='r')\n",
        "            plt.plot(data['Line'], color='b')\n",
        "            plt.grid()\n",
        "            plt.title(f'y = {m}x + {b}\\nCurrent cost: {compute_cost(b, m, data)}\\nNumber of Iterations: {i}\\n'\n",
        "                      f'Value of Alpha = {learning_rate}')\n",
        "            fig_name = ''.join([str(i), '.png'])\n",
        "            plt.savefig(fig_name)\n",
        "            plt.close()\n",
        "    if visual:\n",
        "        frames = os.listdir('.')\n",
        "        frames.sort(key=lambda x: int(x.split('.')[0]))\n",
        "        frames = [imageio.imread(frame) for frame in frames]\n",
        "        imageio.mimsave(folder_name + '.gif', frames)\n",
        "    return b, m\n",
        "\n",
        "\n",
        "\n",
        "if __name__ == '__main__':\n",
        "    data = pd.read_csv('/content/drive/MyDrive/MachineLearning/Week_5/data.csv')\n",
        "    data.columns = ['X', 'Y']\n",
        "    learning = 0.00001\n",
        "    initial_b, initial_m = 0, 0\n",
        "    max_it = 350\n",
        "    b, m = gradient_descent(data, initial_b, initial_m, learning, max_it, visual=True)"
      ]
    }
  ]
}